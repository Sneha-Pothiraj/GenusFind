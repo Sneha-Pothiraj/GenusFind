{
  "nbformat": 4,
  "nbformat_minor": 0,
  "metadata": {
    "colab": {
      "name": "kaggle_proj",
      "provenance": [],
      "collapsed_sections": []
    },
    "kernelspec": {
      "name": "python3",
      "display_name": "Python 3"
    },
    "language_info": {
      "name": "python"
    }
  },
  "cells": [
    {
      "cell_type": "markdown",
      "metadata": {
        "id": "VUc4iUaM6kXY"
      },
      "source": [
        "# **INDIA**"
      ]
    },
    {
      "cell_type": "code",
      "metadata": {
        "id": "CEg6VLWR2qvz"
      },
      "source": [
        "import pandas as pd\n",
        "import numpy as np                       \n",
        "import matplotlib.pyplot as plt      \n",
        "import seaborn as sns\n",
        "from sklearn.feature_extraction.text import CountVectorizer\n",
        "from sklearn.feature_extraction import DictVectorizer\n",
        "from sklearn.tree import DecisionTreeClassifier\n",
        "from sklearn.ensemble import RandomForestClassifier\n",
        "from sklearn.naive_bayes import MultinomialNB"
      ],
      "execution_count": null,
      "outputs": []
    },
    {
      "cell_type": "code",
      "metadata": {
        "id": "soizu9GV25nS"
      },
      "source": [
        "df = pd.read_csv('/content/X_train_K.txt')"
      ],
      "execution_count": null,
      "outputs": []
    },
    {
      "cell_type": "code",
      "metadata": {
        "id": "hGJy-zTW-FaK"
      },
      "source": [
        "df_test = pd.read_csv('/content/Train_K.txt')"
      ],
      "execution_count": null,
      "outputs": []
    },
    {
      "cell_type": "code",
      "metadata": {
        "id": "GANcZ9Pi_GZ3",
        "colab": {
          "base_uri": "https://localhost:8080/",
          "height": 417
        },
        "outputId": "fa9da970-dd84-43a9-ccd6-4b029d16b22a"
      },
      "source": [
        "df_test_ind = df_test[df_test['Race']==\"Indian\"]\n",
        "df_test_ind"
      ],
      "execution_count": null,
      "outputs": [
        {
          "output_type": "execute_result",
          "data": {
            "text/html": [
              "<div>\n",
              "<style scoped>\n",
              "    .dataframe tbody tr th:only-of-type {\n",
              "        vertical-align: middle;\n",
              "    }\n",
              "\n",
              "    .dataframe tbody tr th {\n",
              "        vertical-align: top;\n",
              "    }\n",
              "\n",
              "    .dataframe thead th {\n",
              "        text-align: right;\n",
              "    }\n",
              "</style>\n",
              "<table border=\"1\" class=\"dataframe\">\n",
              "  <thead>\n",
              "    <tr style=\"text-align: right;\">\n",
              "      <th></th>\n",
              "      <th>Id</th>\n",
              "      <th>Name</th>\n",
              "      <th>Count</th>\n",
              "      <th>Race</th>\n",
              "    </tr>\n",
              "  </thead>\n",
              "  <tbody>\n",
              "    <tr>\n",
              "      <th>20</th>\n",
              "      <td>299084</td>\n",
              "      <td>sangeta</td>\n",
              "      <td>NaN</td>\n",
              "      <td>Indian</td>\n",
              "    </tr>\n",
              "    <tr>\n",
              "      <th>68</th>\n",
              "      <td>299132</td>\n",
              "      <td>suman</td>\n",
              "      <td>NaN</td>\n",
              "      <td>Indian</td>\n",
              "    </tr>\n",
              "    <tr>\n",
              "      <th>82</th>\n",
              "      <td>299146</td>\n",
              "      <td>smt. nena devi</td>\n",
              "      <td>NaN</td>\n",
              "      <td>Indian</td>\n",
              "    </tr>\n",
              "    <tr>\n",
              "      <th>86</th>\n",
              "      <td>299150</td>\n",
              "      <td>deepak kumar</td>\n",
              "      <td>NaN</td>\n",
              "      <td>Indian</td>\n",
              "    </tr>\n",
              "    <tr>\n",
              "      <th>88</th>\n",
              "      <td>299152</td>\n",
              "      <td>priyanka  kumari</td>\n",
              "      <td>NaN</td>\n",
              "      <td>Indian</td>\n",
              "    </tr>\n",
              "    <tr>\n",
              "      <th>...</th>\n",
              "      <td>...</td>\n",
              "      <td>...</td>\n",
              "      <td>...</td>\n",
              "      <td>...</td>\n",
              "    </tr>\n",
              "    <tr>\n",
              "      <th>99635</th>\n",
              "      <td>398699</td>\n",
              "      <td>khursid</td>\n",
              "      <td>NaN</td>\n",
              "      <td>Indian</td>\n",
              "    </tr>\n",
              "    <tr>\n",
              "      <th>99647</th>\n",
              "      <td>398711</td>\n",
              "      <td>aajad singh</td>\n",
              "      <td>NaN</td>\n",
              "      <td>Indian</td>\n",
              "    </tr>\n",
              "    <tr>\n",
              "      <th>99657</th>\n",
              "      <td>398721</td>\n",
              "      <td>manju</td>\n",
              "      <td>NaN</td>\n",
              "      <td>Indian</td>\n",
              "    </tr>\n",
              "    <tr>\n",
              "      <th>99678</th>\n",
              "      <td>398742</td>\n",
              "      <td>priyanka</td>\n",
              "      <td>NaN</td>\n",
              "      <td>Indian</td>\n",
              "    </tr>\n",
              "    <tr>\n",
              "      <th>99686</th>\n",
              "      <td>398750</td>\n",
              "      <td>shivani</td>\n",
              "      <td>NaN</td>\n",
              "      <td>Indian</td>\n",
              "    </tr>\n",
              "  </tbody>\n",
              "</table>\n",
              "<p>7541 rows × 4 columns</p>\n",
              "</div>"
            ],
            "text/plain": [
              "           Id              Name  Count    Race\n",
              "20     299084           sangeta    NaN  Indian\n",
              "68     299132             suman    NaN  Indian\n",
              "82     299146    smt. nena devi    NaN  Indian\n",
              "86     299150      deepak kumar    NaN  Indian\n",
              "88     299152  priyanka  kumari    NaN  Indian\n",
              "...       ...               ...    ...     ...\n",
              "99635  398699           khursid    NaN  Indian\n",
              "99647  398711       aajad singh    NaN  Indian\n",
              "99657  398721             manju    NaN  Indian\n",
              "99678  398742          priyanka    NaN  Indian\n",
              "99686  398750           shivani    NaN  Indian\n",
              "\n",
              "[7541 rows x 4 columns]"
            ]
          },
          "metadata": {
            "tags": []
          },
          "execution_count": 85
        }
      ]
    },
    {
      "cell_type": "code",
      "metadata": {
        "id": "5BumAeo2_GJ7",
        "colab": {
          "base_uri": "https://localhost:8080/",
          "height": 417
        },
        "outputId": "bdb6cbf9-1230-4c96-cf77-69799a0522a0"
      },
      "source": [
        "df_test_usa = df_test[df_test['Race']==\"USA\"]\n",
        "df_test_usa"
      ],
      "execution_count": null,
      "outputs": [
        {
          "output_type": "execute_result",
          "data": {
            "text/html": [
              "<div>\n",
              "<style scoped>\n",
              "    .dataframe tbody tr th:only-of-type {\n",
              "        vertical-align: middle;\n",
              "    }\n",
              "\n",
              "    .dataframe tbody tr th {\n",
              "        vertical-align: top;\n",
              "    }\n",
              "\n",
              "    .dataframe thead th {\n",
              "        text-align: right;\n",
              "    }\n",
              "</style>\n",
              "<table border=\"1\" class=\"dataframe\">\n",
              "  <thead>\n",
              "    <tr style=\"text-align: right;\">\n",
              "      <th></th>\n",
              "      <th>Id</th>\n",
              "      <th>Name</th>\n",
              "      <th>Count</th>\n",
              "      <th>Race</th>\n",
              "    </tr>\n",
              "  </thead>\n",
              "  <tbody>\n",
              "    <tr>\n",
              "      <th>0</th>\n",
              "      <td>299064</td>\n",
              "      <td>Aundria</td>\n",
              "      <td>8.0</td>\n",
              "      <td>USA</td>\n",
              "    </tr>\n",
              "    <tr>\n",
              "      <th>1</th>\n",
              "      <td>299065</td>\n",
              "      <td>Traviss</td>\n",
              "      <td>5.0</td>\n",
              "      <td>USA</td>\n",
              "    </tr>\n",
              "    <tr>\n",
              "      <th>2</th>\n",
              "      <td>299066</td>\n",
              "      <td>Daleon</td>\n",
              "      <td>8.0</td>\n",
              "      <td>USA</td>\n",
              "    </tr>\n",
              "    <tr>\n",
              "      <th>3</th>\n",
              "      <td>299067</td>\n",
              "      <td>Porchia</td>\n",
              "      <td>48.0</td>\n",
              "      <td>USA</td>\n",
              "    </tr>\n",
              "    <tr>\n",
              "      <th>4</th>\n",
              "      <td>299068</td>\n",
              "      <td>Josealfredo</td>\n",
              "      <td>7.0</td>\n",
              "      <td>USA</td>\n",
              "    </tr>\n",
              "    <tr>\n",
              "      <th>...</th>\n",
              "      <td>...</td>\n",
              "      <td>...</td>\n",
              "      <td>...</td>\n",
              "      <td>...</td>\n",
              "    </tr>\n",
              "    <tr>\n",
              "      <th>99682</th>\n",
              "      <td>398746</td>\n",
              "      <td>Paolo</td>\n",
              "      <td>104.0</td>\n",
              "      <td>USA</td>\n",
              "    </tr>\n",
              "    <tr>\n",
              "      <th>99683</th>\n",
              "      <td>398747</td>\n",
              "      <td>Tylil</td>\n",
              "      <td>5.0</td>\n",
              "      <td>USA</td>\n",
              "    </tr>\n",
              "    <tr>\n",
              "      <th>99684</th>\n",
              "      <td>398748</td>\n",
              "      <td>Gesselle</td>\n",
              "      <td>13.0</td>\n",
              "      <td>USA</td>\n",
              "    </tr>\n",
              "    <tr>\n",
              "      <th>99685</th>\n",
              "      <td>398749</td>\n",
              "      <td>Tremon</td>\n",
              "      <td>9.0</td>\n",
              "      <td>USA</td>\n",
              "    </tr>\n",
              "    <tr>\n",
              "      <th>99687</th>\n",
              "      <td>398751</td>\n",
              "      <td>Kalin</td>\n",
              "      <td>46.0</td>\n",
              "      <td>USA</td>\n",
              "    </tr>\n",
              "  </tbody>\n",
              "</table>\n",
              "<p>92147 rows × 4 columns</p>\n",
              "</div>"
            ],
            "text/plain": [
              "           Id         Name  Count Race\n",
              "0      299064      Aundria    8.0  USA\n",
              "1      299065      Traviss    5.0  USA\n",
              "2      299066       Daleon    8.0  USA\n",
              "3      299067      Porchia   48.0  USA\n",
              "4      299068  Josealfredo    7.0  USA\n",
              "...       ...          ...    ...  ...\n",
              "99682  398746        Paolo  104.0  USA\n",
              "99683  398747        Tylil    5.0  USA\n",
              "99684  398748     Gesselle   13.0  USA\n",
              "99685  398749       Tremon    9.0  USA\n",
              "99687  398751        Kalin   46.0  USA\n",
              "\n",
              "[92147 rows x 4 columns]"
            ]
          },
          "metadata": {
            "tags": []
          },
          "execution_count": 86
        }
      ]
    },
    {
      "cell_type": "code",
      "metadata": {
        "id": "I3kAJIqR27oc",
        "colab": {
          "base_uri": "https://localhost:8080/",
          "height": 417
        },
        "outputId": "1386314f-b6a6-4ad8-ce22-c701eaa7510f"
      },
      "source": [
        "df_ind = df[df['Race']==\"Indian\"]\n",
        "df_ind"
      ],
      "execution_count": null,
      "outputs": [
        {
          "output_type": "execute_result",
          "data": {
            "text/html": [
              "<div>\n",
              "<style scoped>\n",
              "    .dataframe tbody tr th:only-of-type {\n",
              "        vertical-align: middle;\n",
              "    }\n",
              "\n",
              "    .dataframe tbody tr th {\n",
              "        vertical-align: top;\n",
              "    }\n",
              "\n",
              "    .dataframe thead th {\n",
              "        text-align: right;\n",
              "    }\n",
              "</style>\n",
              "<table border=\"1\" class=\"dataframe\">\n",
              "  <thead>\n",
              "    <tr style=\"text-align: right;\">\n",
              "      <th></th>\n",
              "      <th>Id</th>\n",
              "      <th>Name</th>\n",
              "      <th>Count</th>\n",
              "      <th>Race</th>\n",
              "      <th>Gender</th>\n",
              "    </tr>\n",
              "  </thead>\n",
              "  <tbody>\n",
              "    <tr>\n",
              "      <th>40</th>\n",
              "      <td>40</td>\n",
              "      <td>bharti</td>\n",
              "      <td>NaN</td>\n",
              "      <td>Indian</td>\n",
              "      <td>1</td>\n",
              "    </tr>\n",
              "    <tr>\n",
              "      <th>51</th>\n",
              "      <td>51</td>\n",
              "      <td>ku. reetu</td>\n",
              "      <td>NaN</td>\n",
              "      <td>Indian</td>\n",
              "      <td>1</td>\n",
              "    </tr>\n",
              "    <tr>\n",
              "      <th>58</th>\n",
              "      <td>58</td>\n",
              "      <td>rahul</td>\n",
              "      <td>NaN</td>\n",
              "      <td>Indian</td>\n",
              "      <td>0</td>\n",
              "    </tr>\n",
              "    <tr>\n",
              "      <th>60</th>\n",
              "      <td>60</td>\n",
              "      <td>kumari joyti</td>\n",
              "      <td>NaN</td>\n",
              "      <td>Indian</td>\n",
              "      <td>1</td>\n",
              "    </tr>\n",
              "    <tr>\n",
              "      <th>88</th>\n",
              "      <td>88</td>\n",
              "      <td>sanjit misra</td>\n",
              "      <td>NaN</td>\n",
              "      <td>Indian</td>\n",
              "      <td>0</td>\n",
              "    </tr>\n",
              "    <tr>\n",
              "      <th>...</th>\n",
              "      <td>...</td>\n",
              "      <td>...</td>\n",
              "      <td>...</td>\n",
              "      <td>...</td>\n",
              "      <td>...</td>\n",
              "    </tr>\n",
              "    <tr>\n",
              "      <th>299013</th>\n",
              "      <td>299013</td>\n",
              "      <td>lalita</td>\n",
              "      <td>NaN</td>\n",
              "      <td>Indian</td>\n",
              "      <td>1</td>\n",
              "    </tr>\n",
              "    <tr>\n",
              "      <th>299020</th>\n",
              "      <td>299020</td>\n",
              "      <td>vinod @ babloo</td>\n",
              "      <td>NaN</td>\n",
              "      <td>Indian</td>\n",
              "      <td>0</td>\n",
              "    </tr>\n",
              "    <tr>\n",
              "      <th>299031</th>\n",
              "      <td>299031</td>\n",
              "      <td>sangeeta</td>\n",
              "      <td>NaN</td>\n",
              "      <td>Indian</td>\n",
              "      <td>1</td>\n",
              "    </tr>\n",
              "    <tr>\n",
              "      <th>299054</th>\n",
              "      <td>299054</td>\n",
              "      <td>anisha</td>\n",
              "      <td>NaN</td>\n",
              "      <td>Indian</td>\n",
              "      <td>1</td>\n",
              "    </tr>\n",
              "    <tr>\n",
              "      <th>299058</th>\n",
              "      <td>299058</td>\n",
              "      <td>deepak</td>\n",
              "      <td>NaN</td>\n",
              "      <td>Indian</td>\n",
              "      <td>0</td>\n",
              "    </tr>\n",
              "  </tbody>\n",
              "</table>\n",
              "<p>22631 rows × 5 columns</p>\n",
              "</div>"
            ],
            "text/plain": [
              "            Id            Name  Count    Race  Gender\n",
              "40          40          bharti    NaN  Indian       1\n",
              "51          51       ku. reetu    NaN  Indian       1\n",
              "58          58           rahul    NaN  Indian       0\n",
              "60          60    kumari joyti    NaN  Indian       1\n",
              "88          88    sanjit misra    NaN  Indian       0\n",
              "...        ...             ...    ...     ...     ...\n",
              "299013  299013          lalita    NaN  Indian       1\n",
              "299020  299020  vinod @ babloo    NaN  Indian       0\n",
              "299031  299031        sangeeta    NaN  Indian       1\n",
              "299054  299054          anisha    NaN  Indian       1\n",
              "299058  299058          deepak    NaN  Indian       0\n",
              "\n",
              "[22631 rows x 5 columns]"
            ]
          },
          "metadata": {
            "tags": []
          },
          "execution_count": 87
        }
      ]
    },
    {
      "cell_type": "code",
      "metadata": {
        "id": "EMsodI_T35WV"
      },
      "source": [
        "Xfeatures =df_ind['Name']"
      ],
      "execution_count": null,
      "outputs": []
    },
    {
      "cell_type": "code",
      "metadata": {
        "id": "H0fsZS7r35P5"
      },
      "source": [
        "cv = CountVectorizer()\n",
        "X = cv.fit_transform(Xfeatures)"
      ],
      "execution_count": null,
      "outputs": []
    },
    {
      "cell_type": "code",
      "metadata": {
        "id": "VPgvHzKo35LQ"
      },
      "source": [
        "from sklearn.model_selection import train_test_split"
      ],
      "execution_count": null,
      "outputs": []
    },
    {
      "cell_type": "code",
      "metadata": {
        "id": "PyL8ZOjB35IL"
      },
      "source": [
        "Y = df_ind['Gender']"
      ],
      "execution_count": null,
      "outputs": []
    },
    {
      "cell_type": "code",
      "metadata": {
        "id": "y8NoXssv35Gi"
      },
      "source": [
        "X_train, X_test, y_train, y_test = train_test_split(X, Y, test_size=0.33, random_state=42)"
      ],
      "execution_count": null,
      "outputs": []
    },
    {
      "cell_type": "code",
      "metadata": {
        "id": "Lgxd5kus35FC",
        "colab": {
          "base_uri": "https://localhost:8080/"
        },
        "outputId": "08334e78-cbc1-4d9d-96d6-b532bfdd197f"
      },
      "source": [
        "clf = MultinomialNB()\n",
        "clf.fit(X_train,y_train)\n",
        "clf.score(X_test,y_test)"
      ],
      "execution_count": null,
      "outputs": [
        {
          "output_type": "execute_result",
          "data": {
            "text/plain": [
              "0.902664345963315"
            ]
          },
          "metadata": {
            "tags": []
          },
          "execution_count": 93
        }
      ]
    },
    {
      "cell_type": "code",
      "metadata": {
        "id": "FjTkeCfy35Dn"
      },
      "source": [
        "def genderpredictor_ind(a):\n",
        "    test_name = [a]\n",
        "    vector = cv.transform(test_name).toarray()\n",
        "    if clf.predict(vector) == 1:\n",
        "        return 1;\n",
        "    else:\n",
        "        return 0;"
      ],
      "execution_count": null,
      "outputs": []
    },
    {
      "cell_type": "code",
      "metadata": {
        "id": "QBcydxZw35Bi",
        "colab": {
          "base_uri": "https://localhost:8080/"
        },
        "outputId": "57bee7a5-15b6-4a6a-a5f5-e6414e6aeeb2"
      },
      "source": [
        "genderpredictor_ind('bala')"
      ],
      "execution_count": null,
      "outputs": [
        {
          "output_type": "execute_result",
          "data": {
            "text/plain": [
              "1"
            ]
          },
          "metadata": {
            "tags": []
          },
          "execution_count": 95
        }
      ]
    },
    {
      "cell_type": "markdown",
      "metadata": {
        "id": "gr2EI7Z26ghd"
      },
      "source": [
        "# **USA**"
      ]
    },
    {
      "cell_type": "code",
      "metadata": {
        "id": "TLpBwkQ934_g",
        "colab": {
          "base_uri": "https://localhost:8080/",
          "height": 417
        },
        "outputId": "405f37b9-f066-4fab-daca-30c0fa647908"
      },
      "source": [
        "df_usa = df[df['Race']==\"USA\"]\n",
        "df_usa"
      ],
      "execution_count": null,
      "outputs": [
        {
          "output_type": "execute_result",
          "data": {
            "text/html": [
              "<div>\n",
              "<style scoped>\n",
              "    .dataframe tbody tr th:only-of-type {\n",
              "        vertical-align: middle;\n",
              "    }\n",
              "\n",
              "    .dataframe tbody tr th {\n",
              "        vertical-align: top;\n",
              "    }\n",
              "\n",
              "    .dataframe thead th {\n",
              "        text-align: right;\n",
              "    }\n",
              "</style>\n",
              "<table border=\"1\" class=\"dataframe\">\n",
              "  <thead>\n",
              "    <tr style=\"text-align: right;\">\n",
              "      <th></th>\n",
              "      <th>Id</th>\n",
              "      <th>Name</th>\n",
              "      <th>Count</th>\n",
              "      <th>Race</th>\n",
              "      <th>Gender</th>\n",
              "    </tr>\n",
              "  </thead>\n",
              "  <tbody>\n",
              "    <tr>\n",
              "      <th>0</th>\n",
              "      <td>0</td>\n",
              "      <td>Jayton</td>\n",
              "      <td>8.0</td>\n",
              "      <td>USA</td>\n",
              "      <td>0</td>\n",
              "    </tr>\n",
              "    <tr>\n",
              "      <th>1</th>\n",
              "      <td>1</td>\n",
              "      <td>Jorgen</td>\n",
              "      <td>13.0</td>\n",
              "      <td>USA</td>\n",
              "      <td>0</td>\n",
              "    </tr>\n",
              "    <tr>\n",
              "      <th>2</th>\n",
              "      <td>2</td>\n",
              "      <td>Sahir</td>\n",
              "      <td>20.0</td>\n",
              "      <td>USA</td>\n",
              "      <td>0</td>\n",
              "    </tr>\n",
              "    <tr>\n",
              "      <th>3</th>\n",
              "      <td>3</td>\n",
              "      <td>Jenneffer</td>\n",
              "      <td>5.0</td>\n",
              "      <td>USA</td>\n",
              "      <td>1</td>\n",
              "    </tr>\n",
              "    <tr>\n",
              "      <th>4</th>\n",
              "      <td>4</td>\n",
              "      <td>Maceo</td>\n",
              "      <td>32.0</td>\n",
              "      <td>USA</td>\n",
              "      <td>0</td>\n",
              "    </tr>\n",
              "    <tr>\n",
              "      <th>...</th>\n",
              "      <td>...</td>\n",
              "      <td>...</td>\n",
              "      <td>...</td>\n",
              "      <td>...</td>\n",
              "      <td>...</td>\n",
              "    </tr>\n",
              "    <tr>\n",
              "      <th>299057</th>\n",
              "      <td>299057</td>\n",
              "      <td>Daishawn</td>\n",
              "      <td>27.0</td>\n",
              "      <td>USA</td>\n",
              "      <td>0</td>\n",
              "    </tr>\n",
              "    <tr>\n",
              "      <th>299059</th>\n",
              "      <td>299059</td>\n",
              "      <td>Rayshun</td>\n",
              "      <td>12.0</td>\n",
              "      <td>USA</td>\n",
              "      <td>0</td>\n",
              "    </tr>\n",
              "    <tr>\n",
              "      <th>299060</th>\n",
              "      <td>299060</td>\n",
              "      <td>Madeeha</td>\n",
              "      <td>5.0</td>\n",
              "      <td>USA</td>\n",
              "      <td>1</td>\n",
              "    </tr>\n",
              "    <tr>\n",
              "      <th>299061</th>\n",
              "      <td>299061</td>\n",
              "      <td>Shamyah</td>\n",
              "      <td>8.0</td>\n",
              "      <td>USA</td>\n",
              "      <td>1</td>\n",
              "    </tr>\n",
              "    <tr>\n",
              "      <th>299062</th>\n",
              "      <td>299062</td>\n",
              "      <td>Dynasty</td>\n",
              "      <td>104.0</td>\n",
              "      <td>USA</td>\n",
              "      <td>1</td>\n",
              "    </tr>\n",
              "  </tbody>\n",
              "</table>\n",
              "<p>276432 rows × 5 columns</p>\n",
              "</div>"
            ],
            "text/plain": [
              "            Id       Name  Count Race  Gender\n",
              "0            0     Jayton    8.0  USA       0\n",
              "1            1     Jorgen   13.0  USA       0\n",
              "2            2      Sahir   20.0  USA       0\n",
              "3            3  Jenneffer    5.0  USA       1\n",
              "4            4      Maceo   32.0  USA       0\n",
              "...        ...        ...    ...  ...     ...\n",
              "299057  299057   Daishawn   27.0  USA       0\n",
              "299059  299059    Rayshun   12.0  USA       0\n",
              "299060  299060    Madeeha    5.0  USA       1\n",
              "299061  299061    Shamyah    8.0  USA       1\n",
              "299062  299062    Dynasty  104.0  USA       1\n",
              "\n",
              "[276432 rows x 5 columns]"
            ]
          },
          "metadata": {
            "tags": []
          },
          "execution_count": 96
        }
      ]
    },
    {
      "cell_type": "code",
      "metadata": {
        "id": "Iw9J-x1wg5u0"
      },
      "source": [
        "def vowels(name):\n",
        "  vowels=0\n",
        "  for i in name:\n",
        "      if(i=='a' or i=='e' or i=='i' or i=='o' or i=='u' or i=='A' or i=='E' or i=='I' or i=='O' or i=='U'):\n",
        "            vowels=vowels+1\n",
        "  return vowels\n",
        "\n",
        "def consonants(name):\n",
        "  consonants=0\n",
        "  for i in name:\n",
        "      if(i!='a' and i!='e' and i!='i' and i!='o' and i!='u' and i!='A' and i!='E' and i!='I' and i!='O' and i!='U'):\n",
        "            consonants=consonants+1\n",
        "  return consonants"
      ],
      "execution_count": null,
      "outputs": []
    },
    {
      "cell_type": "code",
      "metadata": {
        "id": "3yjXAfdT345x"
      },
      "source": [
        "def features(name, count):\n",
        "    name = name.lower()\n",
        "    return {\n",
        "        'count': count,\n",
        "        'first-letter': name[0], # First letter\n",
        "        'first2-letters': name[0:2], # First 2 letters\n",
        "        'first3-letters': name[0:3], # First 3 letters\n",
        "        'last-letter': name[-1],\n",
        "        'last2-letters': name[-2:],\n",
        "        'last3-letters': name[-3:],\n",
        "        'length': len(name),\n",
        "        'vowels': vowels(name),\n",
        "        'consonants': consonants(name)\n",
        "    }"
      ],
      "execution_count": null,
      "outputs": []
    },
    {
      "cell_type": "code",
      "metadata": {
        "id": "JoCmJzgs6wDM"
      },
      "source": [
        "features = np.vectorize(features)"
      ],
      "execution_count": null,
      "outputs": []
    },
    {
      "cell_type": "code",
      "metadata": {
        "id": "EH8eVdsI6v_q"
      },
      "source": [
        "df_X = features(df_usa['Name'],df_usa['Count'])\n",
        "df_Y = df_usa['Gender']"
      ],
      "execution_count": null,
      "outputs": []
    },
    {
      "cell_type": "code",
      "metadata": {
        "id": "ZSmw5go86v9j"
      },
      "source": [
        "dv = DictVectorizer()"
      ],
      "execution_count": null,
      "outputs": []
    },
    {
      "cell_type": "code",
      "metadata": {
        "id": "Alj_UQ2Q6v7T"
      },
      "source": [
        "dfX_train, dfX_test, dfy_train, dfy_test = train_test_split(df_X, df_Y, test_size=0.33, random_state=42)"
      ],
      "execution_count": null,
      "outputs": []
    },
    {
      "cell_type": "code",
      "metadata": {
        "id": "bGbzYCcT6v5M",
        "colab": {
          "base_uri": "https://localhost:8080/"
        },
        "outputId": "79e22ac3-9238-431d-fa03-3bc7e385d129"
      },
      "source": [
        "dv = DictVectorizer()\n",
        "dv.fit_transform(dfX_train)"
      ],
      "execution_count": null,
      "outputs": [
        {
          "output_type": "execute_result",
          "data": {
            "text/plain": [
              "<185209x7493 sparse matrix of type '<class 'numpy.float64'>'\n",
              "\twith 1852090 stored elements in Compressed Sparse Row format>"
            ]
          },
          "metadata": {
            "tags": []
          },
          "execution_count": 103
        }
      ]
    },
    {
      "cell_type": "code",
      "metadata": {
        "id": "uqC4gczq6-Ct",
        "colab": {
          "base_uri": "https://localhost:8080/"
        },
        "outputId": "44b9f0d2-d56e-4e5a-cc6c-696db9f8210a"
      },
      "source": [
        "dclf = DecisionTreeClassifier()\n",
        "my_xfeatures =dv.transform(dfX_train)\n",
        "dclf.fit(my_xfeatures, dfy_train)"
      ],
      "execution_count": null,
      "outputs": [
        {
          "output_type": "execute_result",
          "data": {
            "text/plain": [
              "DecisionTreeClassifier(ccp_alpha=0.0, class_weight=None, criterion='gini',\n",
              "                       max_depth=None, max_features=None, max_leaf_nodes=None,\n",
              "                       min_impurity_decrease=0.0, min_impurity_split=None,\n",
              "                       min_samples_leaf=1, min_samples_split=2,\n",
              "                       min_weight_fraction_leaf=0.0, presort='deprecated',\n",
              "                       random_state=None, splitter='best')"
            ]
          },
          "metadata": {
            "tags": []
          },
          "execution_count": 104
        }
      ]
    },
    {
      "cell_type": "code",
      "metadata": {
        "id": "exPnUhg069_V",
        "colab": {
          "base_uri": "https://localhost:8080/"
        },
        "outputId": "3b6f5088-e1bb-4e60-c607-f8e8e4cc0855"
      },
      "source": [
        "print(dclf.score(dv.transform(dfX_test), dfy_test))"
      ],
      "execution_count": null,
      "outputs": [
        {
          "output_type": "stream",
          "text": [
            "0.913629238240356\n"
          ],
          "name": "stdout"
        }
      ]
    },
    {
      "cell_type": "code",
      "metadata": {
        "id": "BEhVndrd699d"
      },
      "source": [
        "def genderpredictor_usa(a,n):\n",
        "    test_name1 = [a]\n",
        "    count = [n]\n",
        "    transform_dv =dv.transform(features(test_name1,count))\n",
        "    vector = transform_dv.toarray()\n",
        "    if dclf.predict(vector) == 1:\n",
        "        return 1;\n",
        "    else:\n",
        "        return 0;"
      ],
      "execution_count": null,
      "outputs": []
    },
    {
      "cell_type": "markdown",
      "metadata": {
        "id": "pu2TpvEg_hg6"
      },
      "source": [
        "# **Predicting Gender**"
      ]
    },
    {
      "cell_type": "code",
      "metadata": {
        "id": "RlGyBRBq6946"
      },
      "source": [
        "Gender = []\n",
        "for i in df_test.index:\n",
        "  Race = df_test['Race'][i]\n",
        "  if Race == 'Indian' :\n",
        "    Name = df_test['Name'][i] \n",
        "    Id = df_test['Id'][i]\n",
        "    gender = genderpredictor_ind(Name)\n",
        "  elif Race == 'USA' :\n",
        "    Name = df_test['Name'][i]\n",
        "    count = df_test['Count'][i] \n",
        "    Id = df_test['Id'][i]\n",
        "    gender = genderpredictor_usa(Name, count)\n",
        "  Gender.append(gender)\n",
        "  #print(Id, ':' ,Name , ':' , gender)\n",
        "  "
      ],
      "execution_count": null,
      "outputs": []
    },
    {
      "cell_type": "code",
      "metadata": {
        "id": "rTNdTGoZ_gFB",
        "colab": {
          "base_uri": "https://localhost:8080/"
        },
        "outputId": "bae5359b-aa36-4f8f-ab88-a9ea15c351bf"
      },
      "source": [
        "outputpredictions=df_test.copy()\n",
        "outputpredictions['Gender'] = Gender\n",
        "outputpredictions = outputpredictions.drop(['Name', 'Count', 'Race'], axis = 1)\n",
        "\n",
        "outputpredictions.to_csv('Sample_Solution_K.csv' ,index = False, header = True)\n",
        "print(\"Saved\")"
      ],
      "execution_count": null,
      "outputs": [
        {
          "output_type": "stream",
          "text": [
            "Saved\n"
          ],
          "name": "stdout"
        }
      ]
    }
  ]
}